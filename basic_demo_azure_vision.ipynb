{
 "cells": [
  {
   "cell_type": "markdown",
   "metadata": {},
   "source": [
    "# Azure AI Vision\n",
    "## Background\n",
    "### References\n",
    "- Main article: https://learn.microsoft.com/en-us/python/api/overview/azure/cognitive-services?view=azure-python\n",
    "- Overview of image analysis: https://learn.microsoft.com/en-us/python/api/overview/azure/ai-vision-imageanalysis-readme?view=azure-python\n",
    "\n",
    "### Asynschronous client\n",
    "A synchronous client supports synchronous analysis methods, meaning they will block until the service responds with analysis results. The code snippets below all use synchronous methods because it's easier for a getting-started guide. The SDK offers equivalent asynchronous APIs which are often preferred."
   ]
  },
  {
   "cell_type": "markdown",
   "metadata": {},
   "source": [
    "## Setup\n",
    "### Install modules"
   ]
  },
  {
   "cell_type": "code",
   "execution_count": 11,
   "metadata": {},
   "outputs": [],
   "source": [
    "# !pip install azure-cognitiveservices-vision-computervision\n",
    "# !pip install azure-ai-vision-imageanalysis\n",
    "# !pip install aiohttp"
   ]
  },
  {
   "cell_type": "markdown",
   "metadata": {},
   "source": [
    "### Import dependencies"
   ]
  },
  {
   "cell_type": "code",
   "execution_count": 4,
   "metadata": {},
   "outputs": [],
   "source": [
    "import os\n",
    "from dotenv import load_dotenv"
   ]
  },
  {
   "cell_type": "code",
   "execution_count": 18,
   "metadata": {},
   "outputs": [],
   "source": [
    "from pprint import pprint\n",
    "import pandas as pd\n",
    "from IPython.display import Image, display"
   ]
  },
  {
   "cell_type": "code",
   "execution_count": 2,
   "metadata": {},
   "outputs": [],
   "source": [
    "from azure.ai.vision.imageanalysis import ImageAnalysisClient\n",
    "from azure.ai.vision.imageanalysis.models import VisualFeatures\n",
    "from azure.core.credentials import AzureKeyCredential"
   ]
  },
  {
   "cell_type": "markdown",
   "metadata": {},
   "source": [
    "### Global variables"
   ]
  },
  {
   "cell_type": "code",
   "execution_count": 5,
   "metadata": {},
   "outputs": [],
   "source": [
    "# Load environment variables from file\n",
    "load_dotenv()\n",
    "\n",
    "# Get environment variables\n",
    "VISION_ENDPOINT = os.getenv('VISION_ENDPOINT')\n",
    "VISION_KEY = os.getenv('VISION_KEY')"
   ]
  },
  {
   "cell_type": "code",
   "execution_count": null,
   "metadata": {},
   "outputs": [],
   "source": [
    "# Read secrets\n"
   ]
  },
  {
   "cell_type": "markdown",
   "metadata": {},
   "source": [
    "## Use API\n",
    "### Steps\n",
    "- Create a client\n",
    "- Load an image from disk\n",
    "- Perform OCR through the API\n",
    "- Print the text from the image"
   ]
  },
  {
   "cell_type": "code",
   "execution_count": 4,
   "metadata": {},
   "outputs": [],
   "source": [
    "# Create an Image Analysis client for synchronous operations,\n",
    "# using API key authentication\n",
    "client = ImageAnalysisClient(\n",
    "    endpoint=VISION_ENDPOINT,\n",
    "    credential=AzureKeyCredential(VISION_KEY)\n",
    ")"
   ]
  },
  {
   "cell_type": "code",
   "execution_count": 5,
   "metadata": {},
   "outputs": [],
   "source": [
    "# Load image to analyze into a 'bytes' object\n",
    "with open(\"test_image_001.jpg\", \"rb\") as f:\n",
    "    image_data = f.read()"
   ]
  },
  {
   "cell_type": "code",
   "execution_count": 17,
   "metadata": {},
   "outputs": [
    {
     "name": "stderr",
     "output_type": "stream",
     "text": [
      "C:\\Users\\User\\AppData\\Local\\Temp\\ipykernel_24600\\1975265300.py:2: RuntimeWarning: coroutine 'ImageAnalysisClient.analyze' was never awaited\n",
      "  result = client.analyze(\n",
      "RuntimeWarning: Enable tracemalloc to get the object allocation traceback\n"
     ]
    }
   ],
   "source": [
    "# Extract text (OCR) from an image stream. This will be a synchronously (blocking) call.\n",
    "result = client.analyze(\n",
    "    image_data=image_data,\n",
    "    visual_features=[VisualFeatures.READ]\n",
    ")"
   ]
  },
  {
   "cell_type": "code",
   "execution_count": 18,
   "metadata": {},
   "outputs": [
    {
     "name": "stdout",
     "output_type": "stream",
     "text": [
      "{'modelVersion': '2023-10-01', 'metadata': {'width': 594, 'height': 846}, 'readResult': {'blocks': [{'lines': [{'text': \"Joe's Diner\", 'boundingPolygon': [{'x': 189, 'y': 60}, {'x': 407, 'y': 61}, {'x': 407, 'y': 93}, {'x': 189, 'y': 92}], 'words': [{'text': \"Joe's\", 'boundingPolygon': [{'x': 194, 'y': 61}, {'x': 288, 'y': 61}, {'x': 288, 'y': 92}, {'x': 193, 'y': 93}], 'confidence': 0.961}, {'text': 'Diner', 'boundingPolygon': [{'x': 311, 'y': 61}, {'x': 407, 'y': 62}, {'x': 407, 'y': 93}, {'x': 311, 'y': 92}], 'confidence': 0.996}]}, {'text': 'Ocean City, NJ', 'boundingPolygon': [{'x': 213, 'y': 120}, {'x': 383, 'y': 120}, {'x': 383, 'y': 145}, {'x': 213, 'y': 145}], 'words': [{'text': 'Ocean', 'boundingPolygon': [{'x': 215, 'y': 121}, {'x': 274, 'y': 122}, {'x': 274, 'y': 145}, {'x': 215, 'y': 146}], 'confidence': 0.993}, {'text': 'City,', 'boundingPolygon': [{'x': 286, 'y': 122}, {'x': 346, 'y': 121}, {'x': 346, 'y': 145}, {'x': 285, 'y': 145}], 'confidence': 0.989}, {'text': 'NJ', 'boundingPolygon': [{'x': 355, 'y': 121}, {'x': 382, 'y': 121}, {'x': 382, 'y': 146}, {'x': 354, 'y': 145}], 'confidence': 0.995}]}, {'text': 'Phone: (609) 555-5678', 'boundingPolygon': [{'x': 173, 'y': 157}, {'x': 424, 'y': 156}, {'x': 424, 'y': 179}, {'x': 173, 'y': 180}], 'words': [{'text': 'Phone:', 'boundingPolygon': [{'x': 174, 'y': 158}, {'x': 246, 'y': 157}, {'x': 246, 'y': 181}, {'x': 174, 'y': 180}], 'confidence': 0.994}, {'text': '(609)', 'boundingPolygon': [{'x': 257, 'y': 157}, {'x': 316, 'y': 157}, {'x': 316, 'y': 180}, {'x': 257, 'y': 181}], 'confidence': 0.994}, {'text': '555-5678', 'boundingPolygon': [{'x': 327, 'y': 157}, {'x': 422, 'y': 156}, {'x': 421, 'y': 179}, {'x': 327, 'y': 180}], 'confidence': 0.994}]}, {'text': 'Date: April 5, 2024', 'boundingPolygon': [{'x': 65, 'y': 248}, {'x': 292, 'y': 247}, {'x': 292, 'y': 270}, {'x': 65, 'y': 271}], 'words': [{'text': 'Date:', 'boundingPolygon': [{'x': 65, 'y': 249}, {'x': 125, 'y': 249}, {'x': 125, 'y': 271}, {'x': 65, 'y': 271}], 'confidence': 0.997}, {'text': 'April', 'boundingPolygon': [{'x': 136, 'y': 249}, {'x': 196, 'y': 248}, {'x': 196, 'y': 271}, {'x': 136, 'y': 271}], 'confidence': 0.989}, {'text': '5,', 'boundingPolygon': [{'x': 207, 'y': 248}, {'x': 231, 'y': 248}, {'x': 231, 'y': 271}, {'x': 206, 'y': 271}], 'confidence': 0.997}, {'text': '2024', 'boundingPolygon': [{'x': 243, 'y': 248}, {'x': 290, 'y': 247}, {'x': 290, 'y': 271}, {'x': 243, 'y': 271}], 'confidence': 0.993}]}, {'text': '1:26 PM', 'boundingPolygon': [{'x': 441, 'y': 249}, {'x': 526, 'y': 249}, {'x': 526, 'y': 268}, {'x': 441, 'y': 269}], 'words': [{'text': '1:26', 'boundingPolygon': [{'x': 443, 'y': 249}, {'x': 488, 'y': 249}, {'x': 487, 'y': 268}, {'x': 443, 'y': 269}], 'confidence': 0.993}, {'text': 'PM', 'boundingPolygon': [{'x': 501, 'y': 249}, {'x': 522, 'y': 249}, {'x': 522, 'y': 269}, {'x': 500, 'y': 268}], 'confidence': 0.993}]}, {'text': '1x Burger', 'boundingPolygon': [{'x': 65, 'y': 324}, {'x': 172, 'y': 325}, {'x': 172, 'y': 346}, {'x': 65, 'y': 345}], 'words': [{'text': '1x', 'boundingPolygon': [{'x': 67, 'y': 325}, {'x': 89, 'y': 325}, {'x': 89, 'y': 345}, {'x': 67, 'y': 345}], 'confidence': 0.791}, {'text': 'Burger', 'boundingPolygon': [{'x': 101, 'y': 325}, {'x': 173, 'y': 326}, {'x': 172, 'y': 346}, {'x': 101, 'y': 346}], 'confidence': 0.996}]}, {'text': '$10.00', 'boundingPolygon': [{'x': 452, 'y': 323}, {'x': 525, 'y': 323}, {'x': 525, 'y': 343}, {'x': 452, 'y': 344}], 'words': [{'text': '$10.00', 'boundingPolygon': [{'x': 452, 'y': 323}, {'x': 523, 'y': 324}, {'x': 522, 'y': 344}, {'x': 452, 'y': 344}], 'confidence': 0.993}]}, {'text': '1 x Salad', 'boundingPolygon': [{'x': 65, 'y': 384}, {'x': 174, 'y': 383}, {'x': 174, 'y': 403}, {'x': 65, 'y': 403}], 'words': [{'text': '1', 'boundingPolygon': [{'x': 67, 'y': 385}, {'x': 77, 'y': 385}, {'x': 76, 'y': 403}, {'x': 67, 'y': 403}], 'confidence': 0.995}, {'text': 'x', 'boundingPolygon': [{'x': 90, 'y': 385}, {'x': 100, 'y': 385}, {'x': 99, 'y': 403}, {'x': 90, 'y': 403}], 'confidence': 0.68}, {'text': 'Salad', 'boundingPolygon': [{'x': 114, 'y': 385}, {'x': 171, 'y': 384}, {'x': 170, 'y': 404}, {'x': 113, 'y': 403}], 'confidence': 0.993}]}, {'text': '$8.00', 'boundingPolygon': [{'x': 463, 'y': 383}, {'x': 524, 'y': 383}, {'x': 524, 'y': 403}, {'x': 463, 'y': 403}], 'words': [{'text': '$8.00', 'boundingPolygon': [{'x': 466, 'y': 383}, {'x': 521, 'y': 383}, {'x': 521, 'y': 403}, {'x': 466, 'y': 403}], 'confidence': 0.991}]}, {'text': '2 x Soft Drink', 'boundingPolygon': [{'x': 65, 'y': 443}, {'x': 232, 'y': 443}, {'x': 233, 'y': 463}, {'x': 65, 'y': 464}], 'words': [{'text': '2', 'boundingPolygon': [{'x': 68, 'y': 445}, {'x': 77, 'y': 445}, {'x': 77, 'y': 463}, {'x': 67, 'y': 463}], 'confidence': 0.996}, {'text': 'x', 'boundingPolygon': [{'x': 90, 'y': 445}, {'x': 100, 'y': 445}, {'x': 99, 'y': 463}, {'x': 90, 'y': 463}], 'confidence': 0.702}, {'text': 'Soft', 'boundingPolygon': [{'x': 114, 'y': 445}, {'x': 160, 'y': 444}, {'x': 159, 'y': 464}, {'x': 114, 'y': 463}], 'confidence': 0.993}, {'text': 'Drink', 'boundingPolygon': [{'x': 172, 'y': 444}, {'x': 229, 'y': 443}, {'x': 228, 'y': 464}, {'x': 171, 'y': 464}], 'confidence': 0.994}]}, {'text': '$10.00', 'boundingPolygon': [{'x': 452, 'y': 443}, {'x': 524, 'y': 443}, {'x': 525, 'y': 463}, {'x': 452, 'y': 464}], 'words': [{'text': '$10.00', 'boundingPolygon': [{'x': 452, 'y': 444}, {'x': 522, 'y': 444}, {'x': 522, 'y': 464}, {'x': 453, 'y': 465}], 'confidence': 0.989}]}, {'text': '1 x Pie - $7.00', 'boundingPolygon': [{'x': 65, 'y': 503}, {'x': 244, 'y': 502}, {'x': 244, 'y': 524}, {'x': 65, 'y': 524}], 'words': [{'text': '1', 'boundingPolygon': [{'x': 67, 'y': 505}, {'x': 77, 'y': 505}, {'x': 77, 'y': 524}, {'x': 67, 'y': 524}], 'confidence': 0.995}, {'text': 'x', 'boundingPolygon': [{'x': 89, 'y': 505}, {'x': 100, 'y': 505}, {'x': 99, 'y': 524}, {'x': 89, 'y': 524}], 'confidence': 0.726}, {'text': 'Pie', 'boundingPolygon': [{'x': 113, 'y': 505}, {'x': 147, 'y': 504}, {'x': 146, 'y': 524}, {'x': 113, 'y': 524}], 'confidence': 0.998}, {'text': '-', 'boundingPolygon': [{'x': 160, 'y': 504}, {'x': 170, 'y': 504}, {'x': 170, 'y': 524}, {'x': 160, 'y': 524}], 'confidence': 0.995}, {'text': '$7.00', 'boundingPolygon': [{'x': 184, 'y': 504}, {'x': 241, 'y': 503}, {'x': 241, 'y': 525}, {'x': 183, 'y': 524}], 'confidence': 0.996}]}, {'text': '$10.00', 'boundingPolygon': [{'x': 451, 'y': 503}, {'x': 524, 'y': 503}, {'x': 525, 'y': 524}, {'x': 451, 'y': 524}], 'words': [{'text': '$10.00', 'boundingPolygon': [{'x': 452, 'y': 504}, {'x': 521, 'y': 504}, {'x': 521, 'y': 524}, {'x': 452, 'y': 525}], 'confidence': 0.99}]}, {'text': 'Tax', 'boundingPolygon': [{'x': 65, 'y': 565}, {'x': 103, 'y': 565}, {'x': 103, 'y': 583}, {'x': 65, 'y': 583}], 'words': [{'text': 'Tax', 'boundingPolygon': [{'x': 67, 'y': 565}, {'x': 100, 'y': 565}, {'x': 100, 'y': 583}, {'x': 67, 'y': 583}], 'confidence': 0.997}]}, {'text': '$4.50', 'boundingPolygon': [{'x': 462, 'y': 562}, {'x': 525, 'y': 563}, {'x': 524, 'y': 583}, {'x': 462, 'y': 584}], 'words': [{'text': '$4.50', 'boundingPolygon': [{'x': 465, 'y': 562}, {'x': 522, 'y': 562}, {'x': 522, 'y': 584}, {'x': 465, 'y': 584}], 'confidence': 0.987}]}, {'text': '$45.00', 'boundingPolygon': [{'x': 377, 'y': 646}, {'x': 525, 'y': 646}, {'x': 525, 'y': 685}, {'x': 377, 'y': 685}], 'words': [{'text': '$45.00', 'boundingPolygon': [{'x': 377, 'y': 646}, {'x': 520, 'y': 647}, {'x': 519, 'y': 686}, {'x': 377, 'y': 686}], 'confidence': 0.988}]}, {'text': 'Thank you for visiting!', 'boundingPolygon': [{'x': 160, 'y': 726}, {'x': 431, 'y': 726}, {'x': 431, 'y': 748}, {'x': 160, 'y': 749}], 'words': [{'text': 'Thank', 'boundingPolygon': [{'x': 164, 'y': 727}, {'x': 220, 'y': 727}, {'x': 220, 'y': 749}, {'x': 164, 'y': 749}], 'confidence': 0.998}, {'text': 'you', 'boundingPolygon': [{'x': 232, 'y': 727}, {'x': 267, 'y': 726}, {'x': 267, 'y': 749}, {'x': 232, 'y': 749}], 'confidence': 0.994}, {'text': 'for', 'boundingPolygon': [{'x': 282, 'y': 726}, {'x': 317, 'y': 726}, {'x': 317, 'y': 749}, {'x': 282, 'y': 749}], 'confidence': 0.999}, {'text': 'visiting!', 'boundingPolygon': [{'x': 328, 'y': 726}, {'x': 432, 'y': 727}, {'x': 432, 'y': 749}, {'x': 328, 'y': 749}], 'confidence': 0.988}]}]}]}}\n"
     ]
    }
   ],
   "source": [
    "pprint(result)"
   ]
  },
  {
   "cell_type": "markdown",
   "metadata": {},
   "source": [
    "### Response format\n",
    "- Keys: `text`, `boundingPolygon`, `words`\n",
    "- `text`: all the blocks of text found\n",
    "- `boundingPolygon`: the position of the vertices around the text blocks\n",
    "- `words`: the individual words and their bounding polygons"
   ]
  },
  {
   "cell_type": "code",
   "execution_count": 19,
   "metadata": {},
   "outputs": [
    {
     "data": {
      "text/plain": [
       "{'width': 594, 'height': 846}"
      ]
     },
     "execution_count": 19,
     "metadata": {},
     "output_type": "execute_result"
    }
   ],
   "source": [
    "# Check image metadata\n",
    "result['metadata']"
   ]
  },
  {
   "cell_type": "code",
   "execution_count": 20,
   "metadata": {},
   "outputs": [
    {
     "name": "stdout",
     "output_type": "stream",
     "text": [
      "17 text blocks found.\n"
     ]
    }
   ],
   "source": [
    "# Check text in image\n",
    "ocr_results = result['readResult']['blocks'][0]['lines']\n",
    "print(len(ocr_results), \"text blocks found.\")"
   ]
  },
  {
   "cell_type": "code",
   "execution_count": 21,
   "metadata": {},
   "outputs": [
    {
     "data": {
      "text/plain": [
       "[{'text': \"Joe's\", 'boundingPolygon': [{'x': 194, 'y': 61}, {'x': 288, 'y': 61}, {'x': 288, 'y': 92}, {'x': 193, 'y': 93}], 'confidence': 0.961},\n",
       " {'text': 'Diner', 'boundingPolygon': [{'x': 311, 'y': 61}, {'x': 407, 'y': 62}, {'x': 407, 'y': 93}, {'x': 311, 'y': 92}], 'confidence': 0.996}]"
      ]
     },
     "execution_count": 21,
     "metadata": {},
     "output_type": "execute_result"
    }
   ],
   "source": [
    "ocr_results[0]['words']"
   ]
  },
  {
   "cell_type": "markdown",
   "metadata": {},
   "source": [
    "### Summarise results\n",
    "- ignore the words\n",
    "- align the text with the average XY positions"
   ]
  },
  {
   "cell_type": "code",
   "execution_count": 22,
   "metadata": {},
   "outputs": [],
   "source": [
    "def center_of_mass(polygon):\n",
    "    '''\n",
    "    Calculate the centre of mass of a polygon\n",
    "\n",
    "    Args:\n",
    "    - polygon (list of dict): [{'x': , 'y':}, ]\n",
    "\n",
    "    Returns:\n",
    "    - dict: {'x':, 'y':} average of all X and all Y\n",
    "    '''\n",
    "\n",
    "    return {'x': pd.DataFrame(polygon)['x'].mean(), 'y': pd.DataFrame(polygon)['y'].mean()}"
   ]
  },
  {
   "cell_type": "code",
   "execution_count": 23,
   "metadata": {},
   "outputs": [],
   "source": [
    "text_blocks = []\n",
    "\n",
    "for text_block in ocr_results:\n",
    "    text = text_block['text']\n",
    "    polygon = text_block['boundingPolygon']\n",
    "\n",
    "    # Calculate the center of mass of the polygon\n",
    "    CoM = center_of_mass(polygon)\n",
    "\n",
    "    # Add the text to the dictinary\n",
    "    CoM['text'] = text\n",
    "\n",
    "    # Append to list of dict\n",
    "    text_blocks.append(CoM)\n",
    "\n",
    "# Convert to a DataFrame\n",
    "text_blocks_df = pd.DataFrame(text_blocks)"
   ]
  },
  {
   "cell_type": "code",
   "execution_count": 15,
   "metadata": {},
   "outputs": [
    {
     "ename": "NameError",
     "evalue": "name 'text_blocks_df' is not defined",
     "output_type": "error",
     "traceback": [
      "\u001b[1;31m---------------------------------------------------------------------------\u001b[0m",
      "\u001b[1;31mNameError\u001b[0m                                 Traceback (most recent call last)",
      "Cell \u001b[1;32mIn[15], line 1\u001b[0m\n\u001b[1;32m----> 1\u001b[0m \u001b[43mtext_blocks_df\u001b[49m\n",
      "\u001b[1;31mNameError\u001b[0m: name 'text_blocks_df' is not defined"
     ]
    }
   ],
   "source": [
    "text_blocks_df"
   ]
  },
  {
   "cell_type": "markdown",
   "metadata": {},
   "source": [
    "## Tags"
   ]
  },
  {
   "cell_type": "code",
   "execution_count": 6,
   "metadata": {},
   "outputs": [],
   "source": [
    "# Generate tags from an image. This will be a synchronously (blocking) call.\n",
    "result = client.analyze(\n",
    "    image_data=image_data,\n",
    "    visual_features=[VisualFeatures.TAGS]\n",
    ")"
   ]
  },
  {
   "cell_type": "code",
   "execution_count": 7,
   "metadata": {},
   "outputs": [
    {
     "data": {
      "text/plain": [
       "{'modelVersion': '2023-10-01', 'metadata': {'width': 612, 'height': 407}, 'tagsResult': {'values': [{'name': 'person', 'confidence': 0.9835193157196045}, {'name': 'clothing', 'confidence': 0.9828574061393738}, {'name': 'furniture', 'confidence': 0.9702439308166504}, {'name': 'man', 'confidence': 0.9587121605873108}, {'name': 'office building', 'confidence': 0.8846772909164429}, {'name': 'laptop', 'confidence': 0.873153567314148}, {'name': 'sitting', 'confidence': 0.8554558157920837}, {'name': 'business', 'confidence': 0.854299783706665}, {'name': 'suit', 'confidence': 0.842790961265564}, {'name': 'window', 'confidence': 0.8224737644195557}, {'name': 'table', 'confidence': 0.7635793685913086}, {'name': 'indoor', 'confidence': 0.741653323173523}, {'name': 'outdoor', 'confidence': 0.5578402280807495}]}}"
      ]
     },
     "execution_count": 7,
     "metadata": {},
     "output_type": "execute_result"
    }
   ],
   "source": [
    "result"
   ]
  },
  {
   "cell_type": "code",
   "execution_count": 8,
   "metadata": {},
   "outputs": [
    {
     "data": {
      "text/plain": [
       "dict_keys(['modelVersion', 'metadata', 'tagsResult'])"
      ]
     },
     "execution_count": 8,
     "metadata": {},
     "output_type": "execute_result"
    }
   ],
   "source": [
    "result.keys()"
   ]
  },
  {
   "cell_type": "code",
   "execution_count": 13,
   "metadata": {},
   "outputs": [
    {
     "data": {
      "text/plain": [
       "{'width': 612, 'height': 407}"
      ]
     },
     "execution_count": 13,
     "metadata": {},
     "output_type": "execute_result"
    }
   ],
   "source": [
    "result['metadata']"
   ]
  },
  {
   "cell_type": "code",
   "execution_count": 17,
   "metadata": {},
   "outputs": [
    {
     "data": {
      "image/jpeg": "[encoded data removed]",
      "text/plain": [
       "<IPython.core.display.Image object>"
      ]
     },
     "metadata": {},
     "output_type": "display_data"
    },
    {
     "data": {
      "text/html": [
       "<div>\n",
       "<style scoped>\n",
       "    .dataframe tbody tr th:only-of-type {\n",
       "        vertical-align: middle;\n",
       "    }\n",
       "\n",
       "    .dataframe tbody tr th {\n",
       "        vertical-align: top;\n",
       "    }\n",
       "\n",
       "    .dataframe thead th {\n",
       "        text-align: right;\n",
       "    }\n",
       "</style>\n",
       "<table border=\"1\" class=\"dataframe\">\n",
       "  <thead>\n",
       "    <tr style=\"text-align: right;\">\n",
       "      <th></th>\n",
       "      <th>confidence</th>\n",
       "      <th>name</th>\n",
       "    </tr>\n",
       "  </thead>\n",
       "  <tbody>\n",
       "    <tr>\n",
       "      <th>0</th>\n",
       "      <td>0.983519</td>\n",
       "      <td>person</td>\n",
       "    </tr>\n",
       "    <tr>\n",
       "      <th>1</th>\n",
       "      <td>0.982857</td>\n",
       "      <td>clothing</td>\n",
       "    </tr>\n",
       "    <tr>\n",
       "      <th>2</th>\n",
       "      <td>0.970244</td>\n",
       "      <td>furniture</td>\n",
       "    </tr>\n",
       "    <tr>\n",
       "      <th>3</th>\n",
       "      <td>0.958712</td>\n",
       "      <td>man</td>\n",
       "    </tr>\n",
       "    <tr>\n",
       "      <th>4</th>\n",
       "      <td>0.884677</td>\n",
       "      <td>office building</td>\n",
       "    </tr>\n",
       "    <tr>\n",
       "      <th>5</th>\n",
       "      <td>0.873154</td>\n",
       "      <td>laptop</td>\n",
       "    </tr>\n",
       "    <tr>\n",
       "      <th>6</th>\n",
       "      <td>0.855456</td>\n",
       "      <td>sitting</td>\n",
       "    </tr>\n",
       "    <tr>\n",
       "      <th>7</th>\n",
       "      <td>0.854300</td>\n",
       "      <td>business</td>\n",
       "    </tr>\n",
       "    <tr>\n",
       "      <th>8</th>\n",
       "      <td>0.842791</td>\n",
       "      <td>suit</td>\n",
       "    </tr>\n",
       "    <tr>\n",
       "      <th>9</th>\n",
       "      <td>0.822474</td>\n",
       "      <td>window</td>\n",
       "    </tr>\n",
       "    <tr>\n",
       "      <th>10</th>\n",
       "      <td>0.763579</td>\n",
       "      <td>table</td>\n",
       "    </tr>\n",
       "    <tr>\n",
       "      <th>11</th>\n",
       "      <td>0.741653</td>\n",
       "      <td>indoor</td>\n",
       "    </tr>\n",
       "    <tr>\n",
       "      <th>12</th>\n",
       "      <td>0.557840</td>\n",
       "      <td>outdoor</td>\n",
       "    </tr>\n",
       "  </tbody>\n",
       "</table>\n",
       "</div>"
      ],
      "text/plain": [
       "    confidence             name\n",
       "0     0.983519           person\n",
       "1     0.982857         clothing\n",
       "2     0.970244        furniture\n",
       "3     0.958712              man\n",
       "4     0.884677  office building\n",
       "5     0.873154           laptop\n",
       "6     0.855456          sitting\n",
       "7     0.854300         business\n",
       "8     0.842791             suit\n",
       "9     0.822474           window\n",
       "10    0.763579            table\n",
       "11    0.741653           indoor\n",
       "12    0.557840          outdoor"
      ]
     },
     "execution_count": 17,
     "metadata": {},
     "output_type": "execute_result"
    }
   ],
   "source": [
    "# Display the image\n",
    "display(Image(data=image_data))\n",
    "\n",
    "pd.DataFrame(result['tagsResult']['values'])"
   ]
  },
  {
   "cell_type": "markdown",
   "metadata": {},
   "source": [
    "## People and Objects"
   ]
  },
  {
   "cell_type": "code",
   "execution_count": 19,
   "metadata": {},
   "outputs": [],
   "source": [
    "# Generate tags from an image. This will be a synchronously (blocking) call.\n",
    "result = client.analyze(\n",
    "    image_data=image_data,\n",
    "    visual_features=[VisualFeatures.PEOPLE, VisualFeatures.OBJECTS]\n",
    ")"
   ]
  },
  {
   "cell_type": "code",
   "execution_count": 28,
   "metadata": {},
   "outputs": [
    {
     "data": {
      "text/plain": [
       "{'modelVersion': '2023-10-01', 'metadata': {'width': 612, 'height': 407}, 'objectsResult': {'values': [{'boundingBox': {'x': 7, 'y': 214, 'w': 44, 'h': 56}, 'tags': [{'name': 'chair', 'confidence': 0.514}]}, {'boundingBox': {'x': 35, 'y': 211, 'w': 62, 'h': 63}, 'tags': [{'name': 'chair', 'confidence': 0.58}]}, {'boundingBox': {'x': 383, 'y': 292, 'w': 39, 'h': 50}, 'tags': [{'name': 'cup', 'confidence': 0.653}]}, {'boundingBox': {'x': 212, 'y': 133, 'w': 126, 'h': 139}, 'tags': [{'name': 'person', 'confidence': 0.793}]}, {'boundingBox': {'x': 357, 'y': 100, 'w': 165, 'h': 186}, 'tags': [{'name': 'person', 'confidence': 0.851}]}, {'boundingBox': {'x': 290, 'y': 235, 'w': 123, 'h': 65}, 'tags': [{'name': 'Laptop', 'confidence': 0.698}]}]}, 'peopleResult': {'values': [{'boundingBox': {'x': 216, 'y': 128, 'w': 120, 'h': 278}, 'confidence': 0.7713886499404907}, {'boundingBox': {'x': 342, 'y': 97, 'w': 175, 'h': 309}, 'confidence': 0.6024842858314514}]}}"
      ]
     },
     "execution_count": 28,
     "metadata": {},
     "output_type": "execute_result"
    }
   ],
   "source": [
    "result"
   ]
  },
  {
   "cell_type": "code",
   "execution_count": 21,
   "metadata": {},
   "outputs": [
    {
     "data": {
      "text/plain": [
       "dict_keys(['modelVersion', 'metadata', 'objectsResult', 'peopleResult'])"
      ]
     },
     "execution_count": 21,
     "metadata": {},
     "output_type": "execute_result"
    }
   ],
   "source": [
    "result.keys()"
   ]
  },
  {
   "cell_type": "code",
   "execution_count": 27,
   "metadata": {},
   "outputs": [
    {
     "data": {
      "image/jpeg": "[encoded data removed]",
      "text/plain": [
       "<IPython.core.display.Image object>"
      ]
     },
     "metadata": {},
     "output_type": "display_data"
    }
   ],
   "source": [
    "# Display the image\n",
    "display(Image(data=image_data))"
   ]
  },
  {
   "cell_type": "code",
   "execution_count": 25,
   "metadata": {},
   "outputs": [
    {
     "data": {
      "text/plain": [
       "[{'boundingBox': {'x': 216, 'y': 128, 'w': 120, 'h': 278}, 'confidence': 0.7713886499404907},\n",
       " {'boundingBox': {'x': 342, 'y': 97, 'w': 175, 'h': 309}, 'confidence': 0.6024842858314514}]"
      ]
     },
     "execution_count": 25,
     "metadata": {},
     "output_type": "execute_result"
    }
   ],
   "source": [
    "result['peopleResult']['values']"
   ]
  },
  {
   "cell_type": "markdown",
   "metadata": {},
   "source": [
    "### People detection as part of object detection\n",
    "It is interesting to notice that the model detects people in the same location as the People Detection Model. The confidence of the object model is however higher (85% instead of 60%) for the person sitting on the right."
   ]
  },
  {
   "cell_type": "code",
   "execution_count": 24,
   "metadata": {},
   "outputs": [
    {
     "data": {
      "text/plain": [
       "[{'boundingBox': {'x': 7, 'y': 214, 'w': 44, 'h': 56}, 'tags': [{'name': 'chair', 'confidence': 0.514}]},\n",
       " {'boundingBox': {'x': 35, 'y': 211, 'w': 62, 'h': 63}, 'tags': [{'name': 'chair', 'confidence': 0.58}]},\n",
       " {'boundingBox': {'x': 383, 'y': 292, 'w': 39, 'h': 50}, 'tags': [{'name': 'cup', 'confidence': 0.653}]},\n",
       " {'boundingBox': {'x': 212, 'y': 133, 'w': 126, 'h': 139}, 'tags': [{'name': 'person', 'confidence': 0.793}]},\n",
       " {'boundingBox': {'x': 357, 'y': 100, 'w': 165, 'h': 186}, 'tags': [{'name': 'person', 'confidence': 0.851}]},\n",
       " {'boundingBox': {'x': 290, 'y': 235, 'w': 123, 'h': 65}, 'tags': [{'name': 'Laptop', 'confidence': 0.698}]}]"
      ]
     },
     "execution_count": 24,
     "metadata": {},
     "output_type": "execute_result"
    }
   ],
   "source": [
    "result['objectsResult']['values']"
   ]
  }
 ],
 "metadata": {
  "kernelspec": {
   "display_name": "dev",
   "language": "python",
   "name": "python3"
  },
  "language_info": {
   "name": "python",
   "version": "3.10.13"
  }
 },
 "nbformat": 4,
 "nbformat_minor": 2
}
