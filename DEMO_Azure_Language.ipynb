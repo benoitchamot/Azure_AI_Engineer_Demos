{
 "cells": [
  {
   "cell_type": "markdown",
   "metadata": {},
   "source": [
    "# `DEMO` Azure AI Language Service\n",
    "## Introduction\n",
    "### Purpose\n",
    "Use this intsead of storing secrets in config files or in code.\n",
    "\n",
    "### Authenticate via Visual Studio Code\n",
    "- [Azure Account extension](https://marketplace.visualstudio.com/items?itemName=ms-vscode.azure-account) (deprecated in January 2025)\n",
    "- [Install Azure CLI in Windows](https://learn.microsoft.com/en-us/cli/azure/install-azure-cli-windows?tabs=azure-cli)\n",
    "\n",
    "To run the Azure CLI to authenticate:\n",
    "\n",
    "```bash\n",
    "$ az login\n",
    "```"
   ]
  },
  {
   "cell_type": "markdown",
   "metadata": {},
   "source": [
    "## Dependencies"
   ]
  },
  {
   "cell_type": "code",
   "execution_count": 3,
   "metadata": {},
   "outputs": [],
   "source": [
    "# pip install azure-identity\n",
    "# pip install azure-keyvault-secrets\n",
    "# !pip install azure-ai-textanalytics"
   ]
  },
  {
   "cell_type": "code",
   "execution_count": 4,
   "metadata": {},
   "outputs": [],
   "source": [
    "# from azure.keyvault.secrets import SecretClient\n",
    "# from azure.identity import DefaultAzureCredential\n",
    "from azure.core.credentials import AzureKeyCredential"
   ]
  },
  {
   "cell_type": "code",
   "execution_count": 5,
   "metadata": {},
   "outputs": [],
   "source": [
    "# Language modules\n",
    "from azure.ai.textanalytics import TextAnalyticsClient"
   ]
  },
  {
   "cell_type": "code",
   "execution_count": 37,
   "metadata": {},
   "outputs": [],
   "source": [
    "import os\n",
    "from dotenv import load_dotenv\n",
    "\n",
    "import pandas as pd"
   ]
  },
  {
   "cell_type": "code",
   "execution_count": 7,
   "metadata": {},
   "outputs": [],
   "source": [
    "from Azure_Utils import secrets_get"
   ]
  },
  {
   "cell_type": "markdown",
   "metadata": {},
   "source": [
    "## Retrieve credentials"
   ]
  },
  {
   "cell_type": "code",
   "execution_count": 8,
   "metadata": {},
   "outputs": [
    {
     "name": "stdout",
     "output_type": "stream",
     "text": [
      "Completed\n"
     ]
    }
   ],
   "source": [
    "load_dotenv()\n",
    "\n",
    "# Retrieve endpoint\n",
    "endpoint = os.environ[\"LANG_ENDPOINT\"]\n",
    "\n",
    "# Retrieve key\n",
    "secretName = os.environ[\"LANG_SECRET\"]\n",
    "service_key = secrets_get(secretName)"
   ]
  },
  {
   "cell_type": "markdown",
   "metadata": {},
   "source": [
    "## Use Azure AI Language service"
   ]
  },
  {
   "cell_type": "code",
   "execution_count": 9,
   "metadata": {},
   "outputs": [],
   "source": [
    "# Create a client for synchronous operations, using API key authentication\n",
    "client = TextAnalyticsClient(\n",
    "    endpoint=endpoint,\n",
    "    credential=AzureKeyCredential(service_key)\n",
    ")"
   ]
  },
  {
   "cell_type": "markdown",
   "metadata": {},
   "source": [
    "### Detect language\n",
    "Documentation: [`detect_language`](https://learn.microsoft.com/en-us/python/api/azure-ai-textanalytics/azure.ai.textanalytics.textanalyticsclient?view=azure-python#azure-ai-textanalytics-textanalyticsclient-detect-language)\n",
    "\n",
    "#### Privacy consideration\n",
    "If `disable_service_logs` is set to `True`, you opt-out of having your text input logged on the service side for troubleshooting. By default, the Language service logs your input text for 48 hours, solely to allow for troubleshooting issues in providing you with the service's natural language processing functions. Setting this parameter to true, disables input logging and may limit our ability to remediate issues that occur."
   ]
  },
  {
   "cell_type": "code",
   "execution_count": 22,
   "metadata": {},
   "outputs": [],
   "source": [
    "documents = [\n",
    "    \"Est-ce que tu veux venir au dépanneur pour acheter une poutine?\",\n",
    "    \"On se retrouve à la gare pour prendre le train?\",\n",
    "    \"Kannst du mir bitte helfen, dieses Problem zu lösen?\",\n",
    "    \"Could you grab me a coffee from the store?\",\n",
    "    \"Would you fancy a cup of tea this afternoon?\",\n",
    "    \"¿Quieres ir a la playa a dar un paseo?\",\n",
    "    \"¿Te gustaría ir a comer unos tacos al puesto de la esquina?\",\n",
    "    \"هل ترغب في الخروج لتناول القهوة معي؟\",\n",
    "    \"Veylun tarë niava lothë senir?\",\n",
    "    \"Ĉu vi ŝatus promeni en la parko hodiaŭ?\",\n",
    "    \"^%&^*&*\"\n",
    "]"
   ]
  },
  {
   "cell_type": "code",
   "execution_count": 23,
   "metadata": {},
   "outputs": [
    {
     "data": {
      "text/plain": [
       "[DetectLanguageResult(id=0, primary_language=DetectedLanguage(name=French, iso6391_name=fr, confidence_score=1.0), warnings=[], statistics=TextDocumentStatistics(character_count=63, transaction_count=1), is_error=False),\n",
       " DetectLanguageResult(id=1, primary_language=DetectedLanguage(name=French, iso6391_name=fr, confidence_score=1.0), warnings=[], statistics=TextDocumentStatistics(character_count=47, transaction_count=1), is_error=False),\n",
       " DetectLanguageResult(id=2, primary_language=DetectedLanguage(name=German, iso6391_name=de, confidence_score=1.0), warnings=[], statistics=TextDocumentStatistics(character_count=52, transaction_count=1), is_error=False),\n",
       " DetectLanguageResult(id=3, primary_language=DetectedLanguage(name=English, iso6391_name=en, confidence_score=1.0), warnings=[], statistics=TextDocumentStatistics(character_count=42, transaction_count=1), is_error=False),\n",
       " DetectLanguageResult(id=4, primary_language=DetectedLanguage(name=English, iso6391_name=en, confidence_score=1.0), warnings=[], statistics=TextDocumentStatistics(character_count=44, transaction_count=1), is_error=False),\n",
       " DetectLanguageResult(id=5, primary_language=DetectedLanguage(name=Spanish, iso6391_name=es, confidence_score=1.0), warnings=[], statistics=TextDocumentStatistics(character_count=38, transaction_count=1), is_error=False),\n",
       " DetectLanguageResult(id=6, primary_language=DetectedLanguage(name=Spanish, iso6391_name=es, confidence_score=1.0), warnings=[], statistics=TextDocumentStatistics(character_count=59, transaction_count=1), is_error=False),\n",
       " DetectLanguageResult(id=7, primary_language=DetectedLanguage(name=Arabic, iso6391_name=ar, confidence_score=1.0), warnings=[], statistics=TextDocumentStatistics(character_count=36, transaction_count=1), is_error=False),\n",
       " DetectLanguageResult(id=8, primary_language=DetectedLanguage(name=English, iso6391_name=en, confidence_score=1.0), warnings=[], statistics=TextDocumentStatistics(character_count=30, transaction_count=1), is_error=False),\n",
       " DetectLanguageResult(id=9, primary_language=DetectedLanguage(name=Esperanto, iso6391_name=eo, confidence_score=1.0), warnings=[], statistics=TextDocumentStatistics(character_count=39, transaction_count=1), is_error=False),\n",
       " DetectLanguageResult(id=10, primary_language=DetectedLanguage(name=English, iso6391_name=en, confidence_score=1.0), warnings=[], statistics=TextDocumentStatistics(character_count=7, transaction_count=1), is_error=False)]"
      ]
     },
     "execution_count": 23,
     "metadata": {},
     "output_type": "execute_result"
    }
   ],
   "source": [
    "client.detect_language(documents=documents, country_hint='us', show_stats=True, disable_service_logs=True)"
   ]
  },
  {
   "cell_type": "markdown",
   "metadata": {},
   "source": [
    "### Key phrase extraction\n",
    "Documentation: [`extract_key_phrases`](https://learn.microsoft.com/en-us/python/api/azure-ai-textanalytics/azure.ai.textanalytics.textanalyticsclient?view=azure-python#azure-ai-textanalytics-textanalyticsclient-extract-key-phrases)"
   ]
  },
  {
   "cell_type": "code",
   "execution_count": 11,
   "metadata": {},
   "outputs": [],
   "source": [
    "# Use the client key extraction feature\n",
    "documents = [\"Dr. Luke has a very modern medical bureau, and she has great staff.\"]\n",
    "response = client.extract_key_phrases(documents = documents)[0]"
   ]
  },
  {
   "cell_type": "code",
   "execution_count": 12,
   "metadata": {},
   "outputs": [
    {
     "data": {
      "text/plain": [
       "['modern medical bureau', 'Dr. Luke', 'great staff']"
      ]
     },
     "execution_count": 12,
     "metadata": {},
     "output_type": "execute_result"
    }
   ],
   "source": [
    "response['key_phrases']"
   ]
  },
  {
   "cell_type": "markdown",
   "metadata": {},
   "source": [
    "### Analyse sentiment\n",
    "Documentation: [`analyze_sentiment`](https://learn.microsoft.com/en-us/python/api/azure-ai-textanalytics/azure.ai.textanalytics.textanalyticsclient?view=azure-python#azure-ai-textanalytics-textanalyticsclient-analyze-sentiment)"
   ]
  },
  {
   "cell_type": "code",
   "execution_count": 29,
   "metadata": {},
   "outputs": [
    {
     "data": {
      "text/plain": [
       "[AnalyzeSentimentResult(id=0, sentiment=positive, warnings=[], statistics=None, confidence_scores=SentimentConfidenceScores(positive=0.55, neutral=0.07, negative=0.38), sentences=[SentenceSentiment(text=hello, you suck,  I like you, sentiment=positive, confidence_scores=SentimentConfidenceScores(positive=0.55, neutral=0.07, negative=0.38), length=28, offset=0, mined_opinions=[])], is_error=False)]"
      ]
     },
     "execution_count": 29,
     "metadata": {},
     "output_type": "execute_result"
    }
   ],
   "source": [
    "client.analyze_sentiment(documents=['hello, you suck,  I like you'], show_opinion_mining=True)"
   ]
  },
  {
   "cell_type": "markdown",
   "metadata": {},
   "source": [
    "### Extract entities\n",
    "Documentation: [`recognize_entities`](https://learn.microsoft.com/en-us/python/api/azure-ai-textanalytics/azure.ai.textanalytics.textanalyticsclient?view=azure-python#azure-ai-textanalytics-textanalyticsclient-recognize-entities)\n",
    "\n",
    "Many [entities](https://learn.microsoft.com/en-us/azure/ai-services/language-service/named-entity-recognition/concepts/named-entity-categories?tabs=ga-api) are supported."
   ]
  },
  {
   "cell_type": "code",
   "execution_count": 30,
   "metadata": {},
   "outputs": [],
   "source": [
    "story = \"\"\"On January 16, 2025, Emma Johnson attended a conference at the Global Tech Innovation Hub, located at 123 Innovation Drive, San Francisco, CA, 94105. The event, hosted by TechFrontier Inc., featured discussions on advancements in artificial intelligence and natural language processing. Emma, a senior researcher at AI Nexus, was a keynote speaker.\n",
    "During her presentation, she demonstrated a new tool for recognizing named entities in text, which is crucial for tasks like information extraction and sentiment analysis. After the conference, attendees received an email at info@techfrontier.com containing the presentation slides and a survey link for feedback. Emma also shared additional resources on her personal blog at https://emmajohnsonai.com, where she posts insights into AI research.\n",
    "Later that evening, Emma had dinner with her colleague Dr. Mark Patel at Golden Fork Bistro in downtown San Francisco. They discussed collaborating on a project focused on applying NER in healthcare data analysis.\n",
    "If you'd like to know more about TechFrontier’s events, visit their official website at https://www.techfrontier.com, or contact them directly via their office at 555 Technology Avenue, Suite 200, Palo Alto, CA, 94301.\"\"\""
   ]
  },
  {
   "cell_type": "code",
   "execution_count": 32,
   "metadata": {},
   "outputs": [],
   "source": [
    "response = client.recognize_entities(documents=[story])"
   ]
  },
  {
   "cell_type": "code",
   "execution_count": 35,
   "metadata": {},
   "outputs": [
    {
     "data": {
      "text/plain": [
       "['id', 'entities', 'warnings', 'statistics', 'is_error', 'kind']"
      ]
     },
     "execution_count": 35,
     "metadata": {},
     "output_type": "execute_result"
    }
   ],
   "source": [
    "response[0].keys()"
   ]
  },
  {
   "cell_type": "code",
   "execution_count": 38,
   "metadata": {},
   "outputs": [
    {
     "data": {
      "text/html": [
       "<div>\n",
       "<style scoped>\n",
       "    .dataframe tbody tr th:only-of-type {\n",
       "        vertical-align: middle;\n",
       "    }\n",
       "\n",
       "    .dataframe tbody tr th {\n",
       "        vertical-align: top;\n",
       "    }\n",
       "\n",
       "    .dataframe thead th {\n",
       "        text-align: right;\n",
       "    }\n",
       "</style>\n",
       "<table border=\"1\" class=\"dataframe\">\n",
       "  <thead>\n",
       "    <tr style=\"text-align: right;\">\n",
       "      <th></th>\n",
       "      <th>text</th>\n",
       "      <th>category</th>\n",
       "      <th>subcategory</th>\n",
       "      <th>scrore</th>\n",
       "    </tr>\n",
       "  </thead>\n",
       "  <tbody>\n",
       "    <tr>\n",
       "      <th>0</th>\n",
       "      <td>January 16, 2025</td>\n",
       "      <td>DateTime</td>\n",
       "      <td>Date</td>\n",
       "      <td>1.00</td>\n",
       "    </tr>\n",
       "    <tr>\n",
       "      <th>1</th>\n",
       "      <td>Emma Johnson</td>\n",
       "      <td>Person</td>\n",
       "      <td>None</td>\n",
       "      <td>1.00</td>\n",
       "    </tr>\n",
       "    <tr>\n",
       "      <th>2</th>\n",
       "      <td>conference</td>\n",
       "      <td>Event</td>\n",
       "      <td>None</td>\n",
       "      <td>0.91</td>\n",
       "    </tr>\n",
       "    <tr>\n",
       "      <th>3</th>\n",
       "      <td>Global Tech Innovation Hub</td>\n",
       "      <td>Organization</td>\n",
       "      <td>None</td>\n",
       "      <td>0.99</td>\n",
       "    </tr>\n",
       "    <tr>\n",
       "      <th>4</th>\n",
       "      <td>123 Innovation Drive, San Francisco, CA, 94105</td>\n",
       "      <td>Address</td>\n",
       "      <td>None</td>\n",
       "      <td>0.96</td>\n",
       "    </tr>\n",
       "    <tr>\n",
       "      <th>5</th>\n",
       "      <td>TechFrontier Inc.</td>\n",
       "      <td>Organization</td>\n",
       "      <td>None</td>\n",
       "      <td>0.99</td>\n",
       "    </tr>\n",
       "    <tr>\n",
       "      <th>6</th>\n",
       "      <td>artificial intelligence</td>\n",
       "      <td>Skill</td>\n",
       "      <td>None</td>\n",
       "      <td>1.00</td>\n",
       "    </tr>\n",
       "    <tr>\n",
       "      <th>7</th>\n",
       "      <td>natural language processing</td>\n",
       "      <td>Skill</td>\n",
       "      <td>None</td>\n",
       "      <td>0.94</td>\n",
       "    </tr>\n",
       "    <tr>\n",
       "      <th>8</th>\n",
       "      <td>Emma</td>\n",
       "      <td>Person</td>\n",
       "      <td>None</td>\n",
       "      <td>1.00</td>\n",
       "    </tr>\n",
       "    <tr>\n",
       "      <th>9</th>\n",
       "      <td>senior researcher</td>\n",
       "      <td>PersonType</td>\n",
       "      <td>None</td>\n",
       "      <td>0.66</td>\n",
       "    </tr>\n",
       "    <tr>\n",
       "      <th>10</th>\n",
       "      <td>AI Nexus</td>\n",
       "      <td>Organization</td>\n",
       "      <td>None</td>\n",
       "      <td>0.99</td>\n",
       "    </tr>\n",
       "    <tr>\n",
       "      <th>11</th>\n",
       "      <td>keynote speaker</td>\n",
       "      <td>PersonType</td>\n",
       "      <td>None</td>\n",
       "      <td>0.69</td>\n",
       "    </tr>\n",
       "    <tr>\n",
       "      <th>12</th>\n",
       "      <td>presentation</td>\n",
       "      <td>Event</td>\n",
       "      <td>None</td>\n",
       "      <td>0.95</td>\n",
       "    </tr>\n",
       "    <tr>\n",
       "      <th>13</th>\n",
       "      <td>text</td>\n",
       "      <td>Skill</td>\n",
       "      <td>None</td>\n",
       "      <td>0.77</td>\n",
       "    </tr>\n",
       "    <tr>\n",
       "      <th>14</th>\n",
       "      <td>information extraction</td>\n",
       "      <td>Skill</td>\n",
       "      <td>None</td>\n",
       "      <td>0.95</td>\n",
       "    </tr>\n",
       "    <tr>\n",
       "      <th>15</th>\n",
       "      <td>sentiment analysis</td>\n",
       "      <td>Skill</td>\n",
       "      <td>None</td>\n",
       "      <td>0.76</td>\n",
       "    </tr>\n",
       "    <tr>\n",
       "      <th>16</th>\n",
       "      <td>conference</td>\n",
       "      <td>Event</td>\n",
       "      <td>None</td>\n",
       "      <td>0.99</td>\n",
       "    </tr>\n",
       "    <tr>\n",
       "      <th>17</th>\n",
       "      <td>attendees</td>\n",
       "      <td>PersonType</td>\n",
       "      <td>None</td>\n",
       "      <td>0.99</td>\n",
       "    </tr>\n",
       "    <tr>\n",
       "      <th>18</th>\n",
       "      <td>info@techfrontier.com</td>\n",
       "      <td>Email</td>\n",
       "      <td>None</td>\n",
       "      <td>0.80</td>\n",
       "    </tr>\n",
       "    <tr>\n",
       "      <th>19</th>\n",
       "      <td>survey</td>\n",
       "      <td>Skill</td>\n",
       "      <td>None</td>\n",
       "      <td>0.86</td>\n",
       "    </tr>\n",
       "    <tr>\n",
       "      <th>20</th>\n",
       "      <td>Emma</td>\n",
       "      <td>Person</td>\n",
       "      <td>None</td>\n",
       "      <td>1.00</td>\n",
       "    </tr>\n",
       "    <tr>\n",
       "      <th>21</th>\n",
       "      <td>blog</td>\n",
       "      <td>Skill</td>\n",
       "      <td>None</td>\n",
       "      <td>0.99</td>\n",
       "    </tr>\n",
       "    <tr>\n",
       "      <th>22</th>\n",
       "      <td>https://emmajohnsonai.com</td>\n",
       "      <td>URL</td>\n",
       "      <td>None</td>\n",
       "      <td>0.80</td>\n",
       "    </tr>\n",
       "    <tr>\n",
       "      <th>23</th>\n",
       "      <td>AI research</td>\n",
       "      <td>Skill</td>\n",
       "      <td>None</td>\n",
       "      <td>0.77</td>\n",
       "    </tr>\n",
       "    <tr>\n",
       "      <th>24</th>\n",
       "      <td>evening</td>\n",
       "      <td>DateTime</td>\n",
       "      <td>TimeRange</td>\n",
       "      <td>0.93</td>\n",
       "    </tr>\n",
       "    <tr>\n",
       "      <th>25</th>\n",
       "      <td>Emma</td>\n",
       "      <td>Person</td>\n",
       "      <td>None</td>\n",
       "      <td>1.00</td>\n",
       "    </tr>\n",
       "    <tr>\n",
       "      <th>26</th>\n",
       "      <td>dinner</td>\n",
       "      <td>Event</td>\n",
       "      <td>None</td>\n",
       "      <td>0.56</td>\n",
       "    </tr>\n",
       "    <tr>\n",
       "      <th>27</th>\n",
       "      <td>colleague</td>\n",
       "      <td>PersonType</td>\n",
       "      <td>None</td>\n",
       "      <td>0.97</td>\n",
       "    </tr>\n",
       "    <tr>\n",
       "      <th>28</th>\n",
       "      <td>Mark Patel</td>\n",
       "      <td>Person</td>\n",
       "      <td>None</td>\n",
       "      <td>0.99</td>\n",
       "    </tr>\n",
       "    <tr>\n",
       "      <th>29</th>\n",
       "      <td>Golden Fork Bistro</td>\n",
       "      <td>Location</td>\n",
       "      <td>None</td>\n",
       "      <td>1.00</td>\n",
       "    </tr>\n",
       "    <tr>\n",
       "      <th>30</th>\n",
       "      <td>San Francisco</td>\n",
       "      <td>Location</td>\n",
       "      <td>City</td>\n",
       "      <td>1.00</td>\n",
       "    </tr>\n",
       "    <tr>\n",
       "      <th>31</th>\n",
       "      <td>collaborating</td>\n",
       "      <td>Skill</td>\n",
       "      <td>None</td>\n",
       "      <td>1.00</td>\n",
       "    </tr>\n",
       "    <tr>\n",
       "      <th>32</th>\n",
       "      <td>NER</td>\n",
       "      <td>Skill</td>\n",
       "      <td>None</td>\n",
       "      <td>0.95</td>\n",
       "    </tr>\n",
       "    <tr>\n",
       "      <th>33</th>\n",
       "      <td>healthcare</td>\n",
       "      <td>Skill</td>\n",
       "      <td>None</td>\n",
       "      <td>0.56</td>\n",
       "    </tr>\n",
       "    <tr>\n",
       "      <th>34</th>\n",
       "      <td>data analysis</td>\n",
       "      <td>Skill</td>\n",
       "      <td>None</td>\n",
       "      <td>0.97</td>\n",
       "    </tr>\n",
       "    <tr>\n",
       "      <th>35</th>\n",
       "      <td>TechFrontier</td>\n",
       "      <td>Organization</td>\n",
       "      <td>None</td>\n",
       "      <td>1.00</td>\n",
       "    </tr>\n",
       "    <tr>\n",
       "      <th>36</th>\n",
       "      <td>https://www.techfrontier.com</td>\n",
       "      <td>URL</td>\n",
       "      <td>None</td>\n",
       "      <td>0.80</td>\n",
       "    </tr>\n",
       "    <tr>\n",
       "      <th>37</th>\n",
       "      <td>office</td>\n",
       "      <td>Location</td>\n",
       "      <td>Structural</td>\n",
       "      <td>0.76</td>\n",
       "    </tr>\n",
       "    <tr>\n",
       "      <th>38</th>\n",
       "      <td>555 Technology Avenue, Suite 200, Palo Alto, C...</td>\n",
       "      <td>Address</td>\n",
       "      <td>None</td>\n",
       "      <td>1.00</td>\n",
       "    </tr>\n",
       "  </tbody>\n",
       "</table>\n",
       "</div>"
      ],
      "text/plain": [
       "                                                 text      category  \\\n",
       "0                                    January 16, 2025      DateTime   \n",
       "1                                        Emma Johnson        Person   \n",
       "2                                          conference         Event   \n",
       "3                          Global Tech Innovation Hub  Organization   \n",
       "4      123 Innovation Drive, San Francisco, CA, 94105       Address   \n",
       "5                                   TechFrontier Inc.  Organization   \n",
       "6                             artificial intelligence         Skill   \n",
       "7                         natural language processing         Skill   \n",
       "8                                                Emma        Person   \n",
       "9                                   senior researcher    PersonType   \n",
       "10                                           AI Nexus  Organization   \n",
       "11                                    keynote speaker    PersonType   \n",
       "12                                       presentation         Event   \n",
       "13                                               text         Skill   \n",
       "14                             information extraction         Skill   \n",
       "15                                 sentiment analysis         Skill   \n",
       "16                                         conference         Event   \n",
       "17                                          attendees    PersonType   \n",
       "18                              info@techfrontier.com         Email   \n",
       "19                                             survey         Skill   \n",
       "20                                               Emma        Person   \n",
       "21                                               blog         Skill   \n",
       "22                          https://emmajohnsonai.com           URL   \n",
       "23                                        AI research         Skill   \n",
       "24                                            evening      DateTime   \n",
       "25                                               Emma        Person   \n",
       "26                                             dinner         Event   \n",
       "27                                          colleague    PersonType   \n",
       "28                                         Mark Patel        Person   \n",
       "29                                 Golden Fork Bistro      Location   \n",
       "30                                      San Francisco      Location   \n",
       "31                                      collaborating         Skill   \n",
       "32                                                NER         Skill   \n",
       "33                                         healthcare         Skill   \n",
       "34                                      data analysis         Skill   \n",
       "35                                       TechFrontier  Organization   \n",
       "36                       https://www.techfrontier.com           URL   \n",
       "37                                             office      Location   \n",
       "38  555 Technology Avenue, Suite 200, Palo Alto, C...       Address   \n",
       "\n",
       "   subcategory  scrore  \n",
       "0         Date    1.00  \n",
       "1         None    1.00  \n",
       "2         None    0.91  \n",
       "3         None    0.99  \n",
       "4         None    0.96  \n",
       "5         None    0.99  \n",
       "6         None    1.00  \n",
       "7         None    0.94  \n",
       "8         None    1.00  \n",
       "9         None    0.66  \n",
       "10        None    0.99  \n",
       "11        None    0.69  \n",
       "12        None    0.95  \n",
       "13        None    0.77  \n",
       "14        None    0.95  \n",
       "15        None    0.76  \n",
       "16        None    0.99  \n",
       "17        None    0.99  \n",
       "18        None    0.80  \n",
       "19        None    0.86  \n",
       "20        None    1.00  \n",
       "21        None    0.99  \n",
       "22        None    0.80  \n",
       "23        None    0.77  \n",
       "24   TimeRange    0.93  \n",
       "25        None    1.00  \n",
       "26        None    0.56  \n",
       "27        None    0.97  \n",
       "28        None    0.99  \n",
       "29        None    1.00  \n",
       "30        City    1.00  \n",
       "31        None    1.00  \n",
       "32        None    0.95  \n",
       "33        None    0.56  \n",
       "34        None    0.97  \n",
       "35        None    1.00  \n",
       "36        None    0.80  \n",
       "37  Structural    0.76  \n",
       "38        None    1.00  "
      ]
     },
     "execution_count": 38,
     "metadata": {},
     "output_type": "execute_result"
    }
   ],
   "source": [
    "pd.DataFrame([{\n",
    "    'text': e['text'],\n",
    "    'category': e['category'],\n",
    "    'subcategory': e['subcategory'],\n",
    "    'scrore': e['confidence_score']\n",
    "\n",
    "} for e in response[0]['entities']])"
   ]
  },
  {
   "cell_type": "markdown",
   "metadata": {},
   "source": [
    "### Extract linked entities\n",
    "Documentation: [`recognize_linked_entities`](https://learn.microsoft.com/en-us/python/api/azure-ai-textanalytics/azure.ai.textanalytics.textanalyticsclient?view=azure-python#azure-ai-textanalytics-textanalyticsclient-recognize-linked-entities)"
   ]
  },
  {
   "cell_type": "code",
   "execution_count": 39,
   "metadata": {},
   "outputs": [],
   "source": [
    "response = client.recognize_linked_entities(documents=[story])"
   ]
  },
  {
   "cell_type": "code",
   "execution_count": 40,
   "metadata": {},
   "outputs": [
    {
     "data": {
      "text/plain": [
       "['id', 'entities', 'warnings', 'statistics', 'is_error', 'kind']"
      ]
     },
     "execution_count": 40,
     "metadata": {},
     "output_type": "execute_result"
    }
   ],
   "source": [
    "response[0].keys()"
   ]
  },
  {
   "cell_type": "code",
   "execution_count": 45,
   "metadata": {},
   "outputs": [
    {
     "data": {
      "text/html": [
       "<div>\n",
       "<style scoped>\n",
       "    .dataframe tbody tr th:only-of-type {\n",
       "        vertical-align: middle;\n",
       "    }\n",
       "\n",
       "    .dataframe tbody tr th {\n",
       "        vertical-align: top;\n",
       "    }\n",
       "\n",
       "    .dataframe thead th {\n",
       "        text-align: right;\n",
       "    }\n",
       "</style>\n",
       "<table border=\"1\" class=\"dataframe\">\n",
       "  <thead>\n",
       "    <tr style=\"text-align: right;\">\n",
       "      <th></th>\n",
       "      <th>name</th>\n",
       "      <th>url</th>\n",
       "      <th>data_source</th>\n",
       "    </tr>\n",
       "  </thead>\n",
       "  <tbody>\n",
       "    <tr>\n",
       "      <th>0</th>\n",
       "      <td>January 16</td>\n",
       "      <td>https://en.wikipedia.org/wiki/January_16</td>\n",
       "      <td>Wikipedia</td>\n",
       "    </tr>\n",
       "    <tr>\n",
       "      <th>1</th>\n",
       "      <td>Emma Johnson (writer)</td>\n",
       "      <td>https://en.wikipedia.org/wiki/Emma_Johnson_(wr...</td>\n",
       "      <td>Wikipedia</td>\n",
       "    </tr>\n",
       "    <tr>\n",
       "      <th>2</th>\n",
       "      <td>.global</td>\n",
       "      <td>https://en.wikipedia.org/wiki/.global</td>\n",
       "      <td>Wikipedia</td>\n",
       "    </tr>\n",
       "    <tr>\n",
       "      <th>3</th>\n",
       "      <td>.tech</td>\n",
       "      <td>https://en.wikipedia.org/wiki/.tech</td>\n",
       "      <td>Wikipedia</td>\n",
       "    </tr>\n",
       "    <tr>\n",
       "      <th>4</th>\n",
       "      <td>Innovation Hub</td>\n",
       "      <td>https://en.wikipedia.org/wiki/Innovation_Hub</td>\n",
       "      <td>Wikipedia</td>\n",
       "    </tr>\n",
       "    <tr>\n",
       "      <th>5</th>\n",
       "      <td>Innovation</td>\n",
       "      <td>https://en.wikipedia.org/wiki/Innovation</td>\n",
       "      <td>Wikipedia</td>\n",
       "    </tr>\n",
       "    <tr>\n",
       "      <th>6</th>\n",
       "      <td>San Francisco</td>\n",
       "      <td>https://en.wikipedia.org/wiki/San_Francisco</td>\n",
       "      <td>Wikipedia</td>\n",
       "    </tr>\n",
       "    <tr>\n",
       "      <th>7</th>\n",
       "      <td>PHP</td>\n",
       "      <td>https://en.wikipedia.org/wiki/PHP</td>\n",
       "      <td>Wikipedia</td>\n",
       "    </tr>\n",
       "    <tr>\n",
       "      <th>8</th>\n",
       "      <td>Artificial intelligence</td>\n",
       "      <td>https://en.wikipedia.org/wiki/Artificial_intel...</td>\n",
       "      <td>Wikipedia</td>\n",
       "    </tr>\n",
       "    <tr>\n",
       "      <th>9</th>\n",
       "      <td>Nexus (data format)</td>\n",
       "      <td>https://en.wikipedia.org/wiki/Nexus_(data_format)</td>\n",
       "      <td>Wikipedia</td>\n",
       "    </tr>\n",
       "    <tr>\n",
       "      <th>10</th>\n",
       "      <td>Golden, Colorado</td>\n",
       "      <td>https://en.wikipedia.org/wiki/Golden,_Colorado</td>\n",
       "      <td>Wikipedia</td>\n",
       "    </tr>\n",
       "    <tr>\n",
       "      <th>11</th>\n",
       "      <td>Fork (software development)</td>\n",
       "      <td>https://en.wikipedia.org/wiki/Fork_(software_d...</td>\n",
       "      <td>Wikipedia</td>\n",
       "    </tr>\n",
       "    <tr>\n",
       "      <th>12</th>\n",
       "      <td>Financial District, San Francisco</td>\n",
       "      <td>https://en.wikipedia.org/wiki/Financial_Distri...</td>\n",
       "      <td>Wikipedia</td>\n",
       "    </tr>\n",
       "    <tr>\n",
       "      <th>13</th>\n",
       "      <td>Technology</td>\n",
       "      <td>https://en.wikipedia.org/wiki/Technology</td>\n",
       "      <td>Wikipedia</td>\n",
       "    </tr>\n",
       "    <tr>\n",
       "      <th>14</th>\n",
       "      <td>Avenue (landscape)</td>\n",
       "      <td>https://en.wikipedia.org/wiki/Avenue_(landscape)</td>\n",
       "      <td>Wikipedia</td>\n",
       "    </tr>\n",
       "    <tr>\n",
       "      <th>15</th>\n",
       "      <td>Palo Alto, California</td>\n",
       "      <td>https://en.wikipedia.org/wiki/Palo_Alto,_Calif...</td>\n",
       "      <td>Wikipedia</td>\n",
       "    </tr>\n",
       "  </tbody>\n",
       "</table>\n",
       "</div>"
      ],
      "text/plain": [
       "                                 name  \\\n",
       "0                          January 16   \n",
       "1               Emma Johnson (writer)   \n",
       "2                             .global   \n",
       "3                               .tech   \n",
       "4                      Innovation Hub   \n",
       "5                          Innovation   \n",
       "6                       San Francisco   \n",
       "7                                 PHP   \n",
       "8             Artificial intelligence   \n",
       "9                 Nexus (data format)   \n",
       "10                   Golden, Colorado   \n",
       "11        Fork (software development)   \n",
       "12  Financial District, San Francisco   \n",
       "13                         Technology   \n",
       "14                 Avenue (landscape)   \n",
       "15              Palo Alto, California   \n",
       "\n",
       "                                                  url data_source  \n",
       "0            https://en.wikipedia.org/wiki/January_16   Wikipedia  \n",
       "1   https://en.wikipedia.org/wiki/Emma_Johnson_(wr...   Wikipedia  \n",
       "2               https://en.wikipedia.org/wiki/.global   Wikipedia  \n",
       "3                 https://en.wikipedia.org/wiki/.tech   Wikipedia  \n",
       "4        https://en.wikipedia.org/wiki/Innovation_Hub   Wikipedia  \n",
       "5            https://en.wikipedia.org/wiki/Innovation   Wikipedia  \n",
       "6         https://en.wikipedia.org/wiki/San_Francisco   Wikipedia  \n",
       "7                   https://en.wikipedia.org/wiki/PHP   Wikipedia  \n",
       "8   https://en.wikipedia.org/wiki/Artificial_intel...   Wikipedia  \n",
       "9   https://en.wikipedia.org/wiki/Nexus_(data_format)   Wikipedia  \n",
       "10     https://en.wikipedia.org/wiki/Golden,_Colorado   Wikipedia  \n",
       "11  https://en.wikipedia.org/wiki/Fork_(software_d...   Wikipedia  \n",
       "12  https://en.wikipedia.org/wiki/Financial_Distri...   Wikipedia  \n",
       "13           https://en.wikipedia.org/wiki/Technology   Wikipedia  \n",
       "14   https://en.wikipedia.org/wiki/Avenue_(landscape)   Wikipedia  \n",
       "15  https://en.wikipedia.org/wiki/Palo_Alto,_Calif...   Wikipedia  "
      ]
     },
     "execution_count": 45,
     "metadata": {},
     "output_type": "execute_result"
    }
   ],
   "source": [
    "pd.DataFrame([{\n",
    "    'name': e['name'],\n",
    "    'url': e['url'],\n",
    "    'data_source': e['data_source']\n",
    "} for e in response[0]['entities']])"
   ]
  },
  {
   "cell_type": "code",
   "execution_count": 53,
   "metadata": {},
   "outputs": [
    {
     "data": {
      "text/plain": [
       "'https://en.wikipedia.org/wiki/Venus_(mythology)'"
      ]
     },
     "execution_count": 53,
     "metadata": {},
     "output_type": "execute_result"
    }
   ],
   "source": [
    "# Ambiguous entity\n",
    "client.recognize_linked_entities(documents=[\"Venus is beautiful in the sky\"])[0]['entities'][0]['url']"
   ]
  },
  {
   "cell_type": "code",
   "execution_count": 52,
   "metadata": {},
   "outputs": [
    {
     "data": {
      "text/plain": [
       "'https://en.wikipedia.org/wiki/Venus'"
      ]
     },
     "execution_count": 52,
     "metadata": {},
     "output_type": "execute_result"
    }
   ],
   "source": [
    "# Ambiguous entity\n",
    "client.recognize_linked_entities(documents=[\"Venus is shining in the sky\"])[0]['entities'][0]['url']"
   ]
  },
  {
   "cell_type": "markdown",
   "metadata": {},
   "source": [
    "### Detect PII\n",
    "Documentation: [`recognize_pii_entities`](https://learn.microsoft.com/en-us/python/api/azure-ai-textanalytics/azure.ai.textanalytics.textanalyticsclient?view=azure-python#azure-ai-textanalytics-textanalyticsclient-recognize-pii-entities)\n",
    "\n",
    "Categories ([source](https://learn.microsoft.com/en-us/azure/ai-services/language-service/personally-identifiable-information/concepts/entity-categories)):\n",
    "- Person\n",
    "- PersonType\n",
    "- PhoneNumber\n",
    "- Organization\n",
    "- etc.\n",
    "\n",
    "Filters:\n",
    "- `domain_filter` = Filters the response entities to ones only included in the specified domain\n",
    "- `categories_filter`= List of the specific PII entity categories you want to filter out"
   ]
  },
  {
   "cell_type": "code",
   "execution_count": 59,
   "metadata": {},
   "outputs": [
    {
     "name": "stdout",
     "output_type": "stream",
     "text": [
      "On January 16, 2025, Emma Johnson attended a conference at the Global Tech Innovation Hub, located at 123 Innovation Drive, San Francisco, CA, 94105. The event, hosted by TechFrontier Inc., featured discussions on advancements in artificial intelligence and natural language processing. Emma, a senior researcher at AI Nexus, was a keynote speaker.\n",
      "During her presentation, she demonstrated a new tool for recognizing named entities in text, which is crucial for tasks like information extraction and sentiment analysis. After the conference, attendees received an email at info@techfrontier.com containing the presentation slides and a survey link for feedback. Emma also shared additional resources on her personal blog at https://emmajohnsonai.com, where she posts insights into AI research.\n",
      "Later that evening, Emma had dinner with her colleague Dr. Mark Patel at Golden Fork Bistro in downtown San Francisco. They discussed collaborating on a project focused on applying NER in healthcare data analysis.\n",
      "If you'd like to know more about TechFrontier’s events, visit their official website at https://www.techfrontier.com, or contact them directly via their office at 555 Technology Avenue, Suite 200, Palo Alto, CA, 94301.\n"
     ]
    }
   ],
   "source": [
    "print(story)"
   ]
  },
  {
   "cell_type": "code",
   "execution_count": 58,
   "metadata": {},
   "outputs": [
    {
     "name": "stdout",
     "output_type": "stream",
     "text": [
      "On ****************, ************ attended a conference at the **************************, located at **********************************************. The event, hosted by *****************, featured discussions on advancements in artificial intelligence and natural language processing. ****, a ***************** at ********, was a ***************.\n",
      "During her presentation, she demonstrated a new tool for recognizing named entities in text, which is crucial for tasks like information extraction and sentiment analysis. After the conference, ********* received an email at ********************* containing the presentation slides and a survey link for feedback. **** also shared additional resources on her personal blog at *************************, where she posts insights into AI research.\n",
      "Later that evening, **** had dinner with her ********* Dr. ********** at Golden Fork Bistro in downtown San Francisco. They discussed collaborating on a project focused on applying NER in healthcare data analysis.\n",
      "If you'd like to know more about ************’s events, visit their official website at ****************************, or contact them directly via their office at ******************************************************.\n"
     ]
    }
   ],
   "source": [
    "print(client.recognize_pii_entities(documents=[story])[0]['redacted_text'])"
   ]
  }
 ],
 "metadata": {
  "kernelspec": {
   "display_name": "dev",
   "language": "python",
   "name": "python3"
  },
  "language_info": {
   "codemirror_mode": {
    "name": "ipython",
    "version": 3
   },
   "file_extension": ".py",
   "mimetype": "text/x-python",
   "name": "python",
   "nbconvert_exporter": "python",
   "pygments_lexer": "ipython3",
   "version": "3.10.13"
  }
 },
 "nbformat": 4,
 "nbformat_minor": 2
}
